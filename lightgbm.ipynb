{
  "nbformat": 4,
  "nbformat_minor": 0,
  "metadata": {
    "colab": {
      "name": "lightgbm",
      "provenance": [],
      "collapsed_sections": [],
      "machine_shape": "hm",
      "authorship_tag": "ABX9TyORRmKzwwBHcudHA0QHoHcP",
      "include_colab_link": true
    },
    "kernelspec": {
      "name": "python3",
      "display_name": "Python 3"
    }
  },
  "cells": [
    {
      "cell_type": "markdown",
      "metadata": {
        "id": "view-in-github",
        "colab_type": "text"
      },
      "source": [
        "<a href=\"https://colab.research.google.com/github/shin04/cheer/blob/master/lightgbm.ipynb\" target=\"_parent\"><img src=\"https://colab.research.google.com/assets/colab-badge.svg\" alt=\"Open In Colab\"/></a>"
      ]
    },
    {
      "cell_type": "code",
      "metadata": {
        "id": "YJNHw6jrSCvs",
        "colab_type": "code",
        "colab": {
          "base_uri": "https://localhost:8080/",
          "height": 204
        },
        "outputId": "93230cbc-2953-4e7e-9832-bcb7a5b1d1dc"
      },
      "source": [
        "!pip install kaggle"
      ],
      "execution_count": 1,
      "outputs": [
        {
          "output_type": "stream",
          "text": [
            "Requirement already satisfied: kaggle in /usr/local/lib/python3.6/dist-packages (1.5.6)\n",
            "Requirement already satisfied: python-slugify in /usr/local/lib/python3.6/dist-packages (from kaggle) (4.0.0)\n",
            "Requirement already satisfied: requests in /usr/local/lib/python3.6/dist-packages (from kaggle) (2.23.0)\n",
            "Requirement already satisfied: certifi in /usr/local/lib/python3.6/dist-packages (from kaggle) (2020.4.5.1)\n",
            "Requirement already satisfied: six>=1.10 in /usr/local/lib/python3.6/dist-packages (from kaggle) (1.12.0)\n",
            "Requirement already satisfied: urllib3<1.25,>=1.21.1 in /usr/local/lib/python3.6/dist-packages (from kaggle) (1.24.3)\n",
            "Requirement already satisfied: python-dateutil in /usr/local/lib/python3.6/dist-packages (from kaggle) (2.8.1)\n",
            "Requirement already satisfied: tqdm in /usr/local/lib/python3.6/dist-packages (from kaggle) (4.41.1)\n",
            "Requirement already satisfied: text-unidecode>=1.3 in /usr/local/lib/python3.6/dist-packages (from python-slugify->kaggle) (1.3)\n",
            "Requirement already satisfied: idna<3,>=2.5 in /usr/local/lib/python3.6/dist-packages (from requests->kaggle) (2.9)\n",
            "Requirement already satisfied: chardet<4,>=3.0.2 in /usr/local/lib/python3.6/dist-packages (from requests->kaggle) (3.0.4)\n"
          ],
          "name": "stdout"
        }
      ]
    },
    {
      "cell_type": "code",
      "metadata": {
        "id": "VRVk22KlSPu0",
        "colab_type": "code",
        "colab": {
          "base_uri": "https://localhost:8080/",
          "height": 34
        },
        "outputId": "5dd1f32f-52c2-4424-cba1-20d39b695d60"
      },
      "source": [
        "from googleapiclient.discovery import build\n",
        "import io, os\n",
        "from googleapiclient.http import MediaIoBaseDownload\n",
        "from google.colab import auth\n",
        "\n",
        "auth.authenticate_user()\n",
        "\n",
        "drive_service = build('drive', 'v3')\n",
        "results = drive_service.files().list(\n",
        "        q=\"name = 'kaggle.json'\", fields=\"files(id)\").execute()\n",
        "kaggle_api_key = results.get('files', [])\n",
        "\n",
        "filename = \"/root/.kaggle/kaggle.json\"\n",
        "os.makedirs(os.path.dirname(filename), exist_ok=True)\n",
        "\n",
        "request = drive_service.files().get_media(fileId=kaggle_api_key[0]['id'])\n",
        "fh = io.FileIO(filename, 'wb')\n",
        "downloader = MediaIoBaseDownload(fh, request)\n",
        "done = False\n",
        "while done is False:\n",
        "    status, done = downloader.next_chunk()\n",
        "    print(\"Download %d%%.\" % int(status.progress() * 100))\n",
        "os.chmod(filename, 600)"
      ],
      "execution_count": 2,
      "outputs": [
        {
          "output_type": "stream",
          "text": [
            "Download 100%.\n"
          ],
          "name": "stdout"
        }
      ]
    },
    {
      "cell_type": "code",
      "metadata": {
        "id": "M7oEMFs7SR7M",
        "colab_type": "code",
        "outputId": "f72cc60b-5176-4dae-d943-c16e56d29320",
        "colab": {
          "base_uri": "https://localhost:8080/",
          "height": 34
        }
      },
      "source": [
        "!kaggle datasets download -d cdeotte/data-without-drift"
      ],
      "execution_count": 3,
      "outputs": [
        {
          "output_type": "stream",
          "text": [
            "data-without-drift.zip: Skipping, found more recently modified local copy (use --force to force download)\n"
          ],
          "name": "stdout"
        }
      ]
    },
    {
      "cell_type": "code",
      "metadata": {
        "id": "UqLv3DkuSkXf",
        "colab_type": "code",
        "outputId": "76d3b40d-9ba1-479f-c12a-932786f8ae44",
        "colab": {
          "base_uri": "https://localhost:8080/",
          "height": 34
        }
      },
      "source": [
        "!kaggle datasets download -d sggpls/ion-shifted-rfc-proba"
      ],
      "execution_count": 4,
      "outputs": [
        {
          "output_type": "stream",
          "text": [
            "ion-shifted-rfc-proba.zip: Skipping, found more recently modified local copy (use --force to force download)\n"
          ],
          "name": "stdout"
        }
      ]
    },
    {
      "cell_type": "code",
      "metadata": {
        "id": "QA9CDVT3tAIm",
        "colab_type": "code",
        "outputId": "c012b900-c3b4-4908-8ccc-603cf2209aeb",
        "colab": {
          "base_uri": "https://localhost:8080/",
          "height": 34
        }
      },
      "source": [
        "!kaggle datasets download -d ragnar123/clean-kalman"
      ],
      "execution_count": 5,
      "outputs": [
        {
          "output_type": "stream",
          "text": [
            "clean-kalman.zip: Skipping, found more recently modified local copy (use --force to force download)\n"
          ],
          "name": "stdout"
        }
      ]
    },
    {
      "cell_type": "code",
      "metadata": {
        "id": "SpUupDkYSl3M",
        "colab_type": "code",
        "outputId": "aaed68bd-1e90-4433-b9a5-957931521c73",
        "colab": {
          "base_uri": "https://localhost:8080/",
          "height": 85
        }
      },
      "source": [
        "!kaggle competitions download -c liverpool-ion-switching"
      ],
      "execution_count": 6,
      "outputs": [
        {
          "output_type": "stream",
          "text": [
            "Warning: Looks like you're using an outdated API Version, please consider updating (server 1.5.6 / client 1.5.4)\n",
            "train.csv.zip: Skipping, found more recently modified local copy (use --force to force download)\n",
            "test.csv.zip: Skipping, found more recently modified local copy (use --force to force download)\n",
            "sample_submission.csv.zip: Skipping, found more recently modified local copy (use --force to force download)\n"
          ],
          "name": "stdout"
        }
      ]
    },
    {
      "cell_type": "code",
      "metadata": {
        "id": "79QyU1isSnZH",
        "colab_type": "code",
        "outputId": "9f3a28bd-9c3f-4aca-f29a-79d90e241bc1",
        "colab": {
          "base_uri": "https://localhost:8080/",
          "height": 391
        }
      },
      "source": [
        "!unzip -o '*.zip'"
      ],
      "execution_count": 7,
      "outputs": [
        {
          "output_type": "stream",
          "text": [
            "Archive:  clean-kalman.zip\n",
            "  inflating: test_clean_kalman.csv   \n",
            "  inflating: train_clean_kalman.csv  \n",
            "\n",
            "Archive:  data-without-drift.zip\n",
            "  inflating: test_clean.csv          \n",
            "  inflating: train_clean.csv         \n",
            "\n",
            "Archive:  train.csv.zip\n",
            "  inflating: train.csv               \n",
            "\n",
            "Archive:  test.csv.zip\n",
            "  inflating: test.csv                \n",
            "\n",
            "Archive:  ion-shifted-rfc-proba.zip\n",
            "  inflating: Y_test_proba.npy        \n",
            "  inflating: Y_train_proba.npy       \n",
            "\n",
            "Archive:  sample_submission.csv.zip\n",
            "  inflating: sample_submission.csv   \n",
            "\n",
            "6 archives were successfully processed.\n"
          ],
          "name": "stdout"
        }
      ]
    },
    {
      "cell_type": "code",
      "metadata": {
        "id": "wveF_VMWw8PG",
        "colab_type": "code",
        "outputId": "fadd6354-48e4-435d-be32-56b89d424edb",
        "colab": {
          "base_uri": "https://localhost:8080/",
          "height": 51
        }
      },
      "source": [
        "!pip install tensorflow_addons"
      ],
      "execution_count": 8,
      "outputs": [
        {
          "output_type": "stream",
          "text": [
            "Requirement already satisfied: tensorflow_addons in /usr/local/lib/python3.6/dist-packages (0.8.3)\n",
            "Requirement already satisfied: typeguard in /usr/local/lib/python3.6/dist-packages (from tensorflow_addons) (2.7.1)\n"
          ],
          "name": "stdout"
        }
      ]
    },
    {
      "cell_type": "code",
      "metadata": {
        "id": "NLiQ1cLhSpr6",
        "colab_type": "code",
        "colab": {}
      },
      "source": [
        "import tensorflow as tf\n",
        "from tensorflow.keras.layers import Conv1D, Input, Dense, Add, Multiply, BatchNormalization, Activation, Dropout\n",
        "import pandas as pd\n",
        "import numpy as np\n",
        "import random\n",
        "from tensorflow.keras.callbacks import Callback, LearningRateScheduler\n",
        "from tensorflow.keras.losses import categorical_crossentropy\n",
        "from tensorflow.keras.optimizers import Adam\n",
        "from tensorflow.keras import backend as K\n",
        "from tensorflow.keras import losses, models, optimizers\n",
        "import tensorflow_addons as tfa\n",
        "import gc\n",
        "from tqdm import tqdm\n",
        "from scipy import signal\n",
        "\n",
        "import lightgbm as lgb\n",
        "\n",
        "from sklearn.model_selection import GroupKFold, StratifiedKFold\n",
        "from sklearn.metrics import f1_score\n",
        "\n",
        "import warnings\n",
        "warnings.simplefilter('ignore')\n",
        "warnings.filterwarnings('ignore')\n",
        "pd.set_option('display.max_columns', 1000)\n",
        "pd.set_option('display.max_rows', 500)\n",
        "\n",
        "import os\n",
        "for dirname, _, filenames in os.walk('/kaggle/input'):\n",
        "    for filename in filenames:\n",
        "        print(os.path.join(dirname, filename))\n",
        "\n",
        "# Any results you write to the current directory are saved as output."
      ],
      "execution_count": 0,
      "outputs": []
    },
    {
      "cell_type": "code",
      "metadata": {
        "id": "UDn2jHk8Svhd",
        "colab_type": "code",
        "colab": {}
      },
      "source": [
        "# configurations and main hyperparammeters\n",
        "EPOCHS = 110\n",
        "NNBATCHSIZE = 16\n",
        "GROUP_BATCH_SIZE = 4000\n",
        "SEED = 321\n",
        "LR = 0.001\n",
        "SPLITS = 5\n",
        "\n",
        "def seed_everything(seed):\n",
        "    random.seed(seed)\n",
        "    np.random.seed(seed)\n",
        "    os.environ['PYTHONHASHSEED'] = str(seed)\n",
        "    tf.random.set_seed(seed)"
      ],
      "execution_count": 0,
      "outputs": []
    },
    {
      "cell_type": "code",
      "metadata": {
        "id": "hd5ZOykHSyC9",
        "colab_type": "code",
        "colab": {}
      },
      "source": [
        "# read data\n",
        "def read_data():\n",
        "\n",
        "    train = pd.read_csv('./train_clean_kalman.csv', dtype={'time': np.float32, 'signal': np.float32, 'open_channels':np.int32})\n",
        "    test  = pd.read_csv('./test_clean_kalman.csv', dtype={'time': np.float32, 'signal': np.float32})\n",
        "    sub  = pd.read_csv('./sample_submission.csv', dtype={'time': np.float32})\n",
        "    \n",
        "    Y_train_proba = np.load(\"./Y_train_proba.npy\")\n",
        "    Y_test_proba = np.load(\"./Y_test_proba.npy\")\n",
        "    \n",
        "    for i in range(11):\n",
        "        train[f\"proba_{i}\"] = Y_train_proba[:, i]\n",
        "        test[f\"proba_{i}\"] = Y_test_proba[:, i]\n",
        "\n",
        "    return train, test, sub"
      ],
      "execution_count": 0,
      "outputs": []
    },
    {
      "cell_type": "code",
      "metadata": {
        "id": "aZTrfQXOLwvM",
        "colab_type": "code",
        "colab": {}
      },
      "source": [
        "# def batching_10(train, test):\n",
        "#     # concatenate data\n",
        "#     batch = 50\n",
        "#     total_batches = 14\n",
        "#     train['set'] = 'train'\n",
        "#     test['set'] = 'test'\n",
        "#     data = pd.concat([train, test])\n",
        "#     for i in range(int(total_batches)):\n",
        "#         data.loc[(data['time'] > i * batch) & (data['time'] <= (i + 1) * batch), 'batch'] = i + 1\n",
        "#     train = data[data['set'] == 'train']\n",
        "#     test = data[data['set'] == 'test']\n",
        "#     train.drop(['set'], inplace = True, axis = 1)\n",
        "#     test.drop(['set'], inplace = True, axis = 1)\n",
        "#     del data\n",
        "#     return train, test"
      ],
      "execution_count": 0,
      "outputs": []
    },
    {
      "cell_type": "code",
      "metadata": {
        "id": "I_pkElMAS8fA",
        "colab_type": "code",
        "colab": {}
      },
      "source": [
        "# create batches of 4000 observations\n",
        "def batching(df, batch_size):\n",
        "    df['group'] = df.groupby(df.index//batch_size, sort=False)['signal'].agg(['ngroup']).values\n",
        "    df['group'] = df['group'].astype(np.uint16)\n",
        "    return df"
      ],
      "execution_count": 0,
      "outputs": []
    },
    {
      "cell_type": "code",
      "metadata": {
        "id": "vzokhYjyS-dU",
        "colab_type": "code",
        "colab": {}
      },
      "source": [
        "# normalize the data (standard scaler). We can also try other scalers for a better score!\n",
        "def normalize(train, test):\n",
        "    train_input_mean = train.signal.mean()\n",
        "    train_input_sigma = train.signal.std()\n",
        "    train['signal'] = (train.signal - train_input_mean) / train_input_sigma\n",
        "    test['signal'] = (test.signal - train_input_mean) / train_input_sigma\n",
        "    \n",
        "    return train, test"
      ],
      "execution_count": 0,
      "outputs": []
    },
    {
      "cell_type": "code",
      "metadata": {
        "id": "Qez_-uQBt-9W",
        "colab_type": "code",
        "colab": {}
      },
      "source": [
        "def add_category(train, test):\n",
        "  train[\"category\"] = 0\n",
        "  test[\"category\"] = 0\n",
        "\n",
        "  # train segments with more then 9 open channels classes\n",
        "  train.loc[2000000:2500000-1, 'category'] = 1\n",
        "  train.loc[4500000:5000000-1, 'category'] = 1\n",
        "\n",
        "  # test segments with more then 9 open channels classes (potentially)\n",
        "  test.loc[500000:600000-1, \"category\"] = 1\n",
        "  test.loc[700000:800000-1, \"category\"] = 1\n",
        "  \n",
        "  return train, test"
      ],
      "execution_count": 0,
      "outputs": []
    },
    {
      "cell_type": "code",
      "metadata": {
        "id": "zi8ajG9drc0f",
        "colab_type": "code",
        "colab": {}
      },
      "source": [
        "# signal processing features\n",
        "def calc_gradients(s, n_grads = 4):\n",
        "    '''\n",
        "    Calculate gradients for a pandas series. Returns the same number of samples\n",
        "    '''\n",
        "    grads = pd.DataFrame()\n",
        "    \n",
        "    g = s.values\n",
        "    for i in range(n_grads):\n",
        "        g = np.gradient(g)\n",
        "        grads['grad_' + str(i+1)] = g\n",
        "        \n",
        "    return grads\n",
        "\n",
        "def calc_low_pass(s, n_filts=10):\n",
        "    '''\n",
        "    Applies low pass filters to the signal. Left delayed and no delayed\n",
        "    '''\n",
        "    wns = np.logspace(-2, -0.3, n_filts)\n",
        "    \n",
        "    low_pass = pd.DataFrame()\n",
        "    x = s.values\n",
        "    for wn in wns:\n",
        "        b, a = signal.butter(1, Wn=wn, btype='low')\n",
        "        zi = signal.lfilter_zi(b, a)\n",
        "        low_pass['lowpass_lf_' + str('%.4f' %wn)] = signal.lfilter(b, a, x, zi=zi*x[0])[0]\n",
        "        low_pass['lowpass_ff_' + str('%.4f' %wn)] = signal.filtfilt(b, a, x)\n",
        "        \n",
        "    return low_pass\n",
        "\n",
        "def calc_high_pass(s, n_filts=10):\n",
        "    '''\n",
        "    Applies high pass filters to the signal. Left delayed and no delayed\n",
        "    '''\n",
        "    wns = np.logspace(-2, -0.1, n_filts)\n",
        "    \n",
        "    high_pass = pd.DataFrame()\n",
        "    x = s.values\n",
        "    for wn in wns:\n",
        "        b, a = signal.butter(1, Wn=wn, btype='high')\n",
        "        zi = signal.lfilter_zi(b, a)\n",
        "        high_pass['highpass_lf_' + str('%.4f' %wn)] = signal.lfilter(b, a, x, zi=zi*x[0])[0]\n",
        "        high_pass['highpass_ff_' + str('%.4f' %wn)] = signal.filtfilt(b, a, x)\n",
        "        \n",
        "    return high_pass\n",
        "\n",
        "def calc_ewm(s, windows=[10, 50, 100, 500, 1000]):\n",
        "    '''\n",
        "    Calculates exponential weighted functions\n",
        "    '''\n",
        "    ewm = pd.DataFrame()\n",
        "    for w in windows:\n",
        "        ewm['ewm_mean_' + str(w)] = s.ewm(span=w, min_periods=1).mean()\n",
        "        ewm['ewm_std_' + str(w)] = s.ewm(span=w, min_periods=1).std()\n",
        "        \n",
        "    # add zeros when na values (std)\n",
        "    ewm = ewm.fillna(value=0)\n",
        "        \n",
        "    return ewm\n",
        "\n",
        "\n",
        "def add_features(s):\n",
        "    '''\n",
        "    All calculations together\n",
        "    '''\n",
        "    \n",
        "    gradients = calc_gradients(s)\n",
        "    low_pass = calc_low_pass(s)\n",
        "    high_pass = calc_high_pass(s)\n",
        "    ewm = calc_ewm(s)\n",
        "    \n",
        "    return pd.concat([s, gradients, low_pass, high_pass, ewm], axis=1)\n",
        "\n",
        "\n",
        "# signal_size を考える\n",
        "# 500000? or 4000?\n",
        "def divide_and_add_features(s, signal_size=500000):\n",
        "    '''\n",
        "    Divide the signal in bags of \"signal_size\".\n",
        "    Normalize the data dividing it by 15.0\n",
        "    '''\n",
        "    # normalize\n",
        "    s = s / 15.0\n",
        "    \n",
        "    ls = []\n",
        "    for i in tqdm(range(int(s.shape[0]/signal_size))):\n",
        "        sig = s[i*signal_size:(i+1)*signal_size].copy().reset_index(drop=True)\n",
        "        sig_featured = add_features(sig)\n",
        "        ls.append(sig_featured)\n",
        "    \n",
        "    return pd.concat(ls, axis=0)"
      ],
      "execution_count": 0,
      "outputs": []
    },
    {
      "cell_type": "code",
      "metadata": {
        "id": "uvqlr0beS_62",
        "colab_type": "code",
        "colab": {}
      },
      "source": [
        "# get lead and lags features\n",
        "def lag_with_pct_change(df, windows):\n",
        "    for window in windows:    \n",
        "        df['signal_shift_pos_' + str(window)] = df.groupby('group')['signal'].shift(window).fillna(0)\n",
        "        df['signal_shift_neg_' + str(window)] = df.groupby('group')['signal'].shift(-1 * window).fillna(0)\n",
        "    return df"
      ],
      "execution_count": 0,
      "outputs": []
    },
    {
      "cell_type": "code",
      "metadata": {
        "id": "aWSG9xWHWlhP",
        "colab_type": "code",
        "colab": {}
      },
      "source": [
        "def calc_roll_stats(df, windows, group='group'):\n",
        "    '''\n",
        "    Calculates rolling stats like mean, std, min, max...\n",
        "    '''\n",
        "    for i, window in enumerate(windows):\n",
        "      df[group + 'roll_mean_' + str(window)] = df.groupby(group)['signal'].rolling(window=window, min_periods=1).mean().fillna(0).values\n",
        "      df[group + 'roll_std_' + str(window)] = df.groupby(group)['signal'].rolling(window=window, min_periods=1).std().fillna(0).values\n",
        "      df[group + 'roll_min_' + str(window)] = df.groupby(group)['signal'].rolling(window=window, min_periods=1).min().fillna(0).values\n",
        "      df[group + 'roll_max_' + str(window)] = df.groupby(group)['signal'].rolling(window=window, min_periods=1).max().fillna(0).values\n",
        "      df[group + 'roll_range' + str(window)] = df[group + 'roll_max_' + str(window)] - df[group + 'roll_min_' + str(window)]\n",
        "\n",
        "      df['roll_q10_' + str(window)] = df.groupby('group')['signal'].rolling(window=window, min_periods=1).quantile(0.10).fillna(0).values\n",
        "      df['roll_q25_' + str(window)] = df.groupby('group')['signal'].rolling(window=window, min_periods=1).quantile(0.25).fillna(0).values\n",
        "      df['roll_q50_' + str(window)] = df.groupby('group')['signal'].rolling(window=window, min_periods=1).quantile(0.50).fillna(0).values\n",
        "      df['roll_q75_' + str(window)] = df.groupby('group')['signal'].rolling(window=window, min_periods=1).quantile(0.75).fillna(0).values\n",
        "      df['roll_q90_' + str(window)] = df.groupby('group')['signal'].rolling(window=window, min_periods=1).quantile(0.90).fillna(0).values\n",
        "             \n",
        "    return df"
      ],
      "execution_count": 0,
      "outputs": []
    },
    {
      "cell_type": "code",
      "metadata": {
        "id": "4sJgvILz6ppL",
        "colab_type": "code",
        "colab": {}
      },
      "source": [
        "def calc_expand_stats(df, group='group'):\n",
        "  df['expanding_mean'] = df.groupby(group)['signal'].expanding().mean().fillna(0).values\n",
        "  df['expanding_std'] = df.groupby(group)['signal'].expanding().std().fillna(0).values\n",
        "  df['expanding_max'] = df.groupby(group)['signal'].expanding().max().fillna(0).values\n",
        "  df['expanding_min'] = df.groupby(group)['signal'].expanding().min().fillna(0).values\n",
        "  df['expanding_range'] = df['expanding_max'] - df['expanding_min']\n",
        "  \n",
        "  return df"
      ],
      "execution_count": 0,
      "outputs": []
    },
    {
      "cell_type": "code",
      "metadata": {
        "id": "abANAaO5T4l6",
        "colab_type": "code",
        "colab": {}
      },
      "source": [
        "# main module to run feature engineering. Here you may want to try and add other features and check if your score imporves :).\n",
        "def run_feat_engineering(df, batch_size):\n",
        "    # create batches\n",
        "    df = batching(df, batch_size = batch_size)\n",
        "\n",
        "    # create leads and lags\n",
        "    df = lag_with_pct_change(df, np.asarray(range(1, 3), dtype=np.int32))\n",
        "\n",
        "    # create rolling stats\n",
        "    df = calc_roll_stats(df, [3, 10, 50, 100, 500, 1000]) # groupごと(4000)\n",
        "    # df = calc_roll_stats(df, [50000, 100000], group='batch') # batchごと(500000)\n",
        "\n",
        "    # create signal ** 2 (this is the new feature)\n",
        "    df['signal_2'] = df['signal'] ** 2\n",
        "\n",
        "    return df"
      ],
      "execution_count": 0,
      "outputs": []
    },
    {
      "cell_type": "code",
      "metadata": {
        "id": "xkDA5AB3TB13",
        "colab_type": "code",
        "colab": {}
      },
      "source": [
        "# fillna with the mean and select features for training\n",
        "def feature_selection(train, test):\n",
        "    features = [col for col in train.columns if col not in ['index', 'group', 'open_channels', 'time', 'batch', 'train_group', 'test_group']]\n",
        "    train = train.replace([np.inf, -np.inf], np.nan)\n",
        "    test = test.replace([np.inf, -np.inf], np.nan)\n",
        "    for feature in features:\n",
        "        feature_mean = pd.concat([train[feature], test[feature]], axis = 0).mean()\n",
        "        train[feature] = train[feature].fillna(feature_mean)\n",
        "        test[feature] = test[feature].fillna(feature_mean)\n",
        "    return train, test, features"
      ],
      "execution_count": 0,
      "outputs": []
    },
    {
      "cell_type": "code",
      "metadata": {
        "id": "arzvPi4DTJNs",
        "colab_type": "code",
        "colab": {}
      },
      "source": [
        "# main function to perfrom groupkfold cross validation (we have 1000 vectores of 4000 rows and 8 features (columns)). Going to make 5 groups with this subgroups.\n",
        "def run_cv_model_by_batch(train, test, splits, batch_col, feats, sample_submission):\n",
        "    oof_ = np.zeros(len(train))\n",
        "    preds_ = np.zeros(len(test))\n",
        "    target = ['open_channels']\n",
        "    group = train['group']\n",
        "    # kf = GroupKFold(n_splits=5)\n",
        "    kf = StratifiedKFold(n_splits = 5, shuffle = True, random_state = 42)\n",
        "\n",
        "    for n_fold, (tr_idx, val_idx) in enumerate(kf.split(train, train[target], groups=group)):\n",
        "        train_x, train_y = train.iloc[tr_idx], train[target].iloc[tr_idx]\n",
        "        valid_x, valid_y = train.iloc[val_idx], train[target].iloc[val_idx]\n",
        "        print(f'Our training dataset shape is {train_x.shape}')\n",
        "        print(f'Our validation dataset shape is {valid_x.shape}')\n",
        "\n",
        "        gc.collect()\n",
        "\n",
        "        train_set = lgb.Dataset(train_x[feats], train_y)\n",
        "        val_set = lgb.Dataset(valid_x[feats], valid_y)\n",
        "\n",
        "        params = {'boosting_type': 'gbdt',\n",
        "                'metric': 'rmse',\n",
        "                'objective': 'regression',\n",
        "                'n_jobs': -1,\n",
        "                'seed': 236,\n",
        "                'num_leaves': 280,\n",
        "                'learning_rate': 0.026623466966581126,\n",
        "                'max_depth': 73,\n",
        "                'lambda_l1': 2.959759088169741,\n",
        "                'lambda_l2': 1.331172832164913,\n",
        "                'bagging_fraction': 0.9655406551472153,\n",
        "                'bagging_freq': 9,\n",
        "                'colsample_bytree': 0.6867118652742716}\n",
        "        \n",
        "        lgb_model = lgb.train(\n",
        "            params, \n",
        "            train_set, num_boost_round = 10000, \n",
        "            early_stopping_rounds = 50, \n",
        "            valid_sets = [train_set, val_set], \n",
        "            valid_names = ['train', 'eval'],\n",
        "            verbose_eval = 100,)\n",
        "\n",
        "        preds_f = lgb_model.predict(valid_x[feats])\n",
        "        f1_score_ = f1_score(valid_y,  np.round(np.clip(preds_f, 0, 10)).astype(int), average = 'macro')\n",
        "        print(f'Training fold {n_fold + 1} completed. macro f1 score : {f1_score_ :1.5f}')\n",
        "        oof_[val_idx] += preds_f\n",
        "        te_preds = lgb_model.predict(test[feats])\n",
        "        preds_ += te_preds / SPLITS\n",
        "\n",
        "    return preds_, oof_\n",
        "\n",
        "    # f1_score_ = f1_score(train[target],  np.round(np.clip(oof_, 0, 10)).astype(int), average = 'macro')\n",
        "    # print(f'Training completed. oof macro f1 score : {f1_score_:1.5f}')\n",
        "    # sample_submission['open_channels'] = np.round(np.clip(preds_, 0, 10)).astype(int)\n",
        "    # sample_submission.to_csv('lgb_submission.csv', index=False, float_format='%.4f')"
      ],
      "execution_count": 0,
      "outputs": []
    },
    {
      "cell_type": "code",
      "metadata": {
        "id": "hOM_WZ_5ZiYM",
        "colab_type": "code",
        "colab": {}
      },
      "source": [
        "def reduce_mem_usage(df, verbose=True):\n",
        "    numerics = ['int16', 'int32', 'int64', 'float16', 'float32', 'float64']\n",
        "    start_mem = df.memory_usage().sum() / 1024**2    \n",
        "    for col in df.columns:\n",
        "        if col!='open_channels':\n",
        "            col_type = df[col].dtypes\n",
        "            if col_type in numerics:\n",
        "                c_min = df[col].min()\n",
        "                c_max = df[col].max()\n",
        "                if str(col_type)[:3] == 'int':\n",
        "                    if c_min > np.iinfo(np.int8).min and c_max < np.iinfo(np.int8).max:\n",
        "                        df[col] = df[col].astype(np.int8)\n",
        "                    elif c_min > np.iinfo(np.int16).min and c_max < np.iinfo(np.int16).max:\n",
        "                        df[col] = df[col].astype(np.int16)\n",
        "                    elif c_min > np.iinfo(np.int32).min and c_max < np.iinfo(np.int32).max:\n",
        "                        df[col] = df[col].astype(np.int32)\n",
        "                    elif c_min > np.iinfo(np.int64).min and c_max < np.iinfo(np.int64).max:\n",
        "                        df[col] = df[col].astype(np.int64)  \n",
        "                else:\n",
        "                    if c_min > np.finfo(np.float16).min and c_max < np.finfo(np.float16).max:\n",
        "                        df[col] = df[col].astype(np.float16)\n",
        "                    elif c_min > np.finfo(np.float32).min and c_max < np.finfo(np.float32).max:\n",
        "                        df[col] = df[col].astype(np.float32)\n",
        "                    else:\n",
        "                        df[col] = df[col].astype(np.float64)    \n",
        "    end_mem = df.memory_usage().sum() / 1024**2\n",
        "    if verbose: print('Mem. usage decreased to {:5.2f} Mb ({:.1f}% reduction)'.format(end_mem, 100 * (start_mem - end_mem) / start_mem))\n",
        "    return df"
      ],
      "execution_count": 0,
      "outputs": []
    },
    {
      "cell_type": "code",
      "metadata": {
        "id": "esUCbE6mTLxE",
        "colab_type": "code",
        "outputId": "6d394d9a-c6c1-4b75-c02d-d982cd6f88ca",
        "colab": {
          "base_uri": "https://localhost:8080/",
          "height": 51
        }
      },
      "source": [
        "print('Reading Data Started...')\n",
        "train, test, sample_submission = read_data()\n",
        "train, test = normalize(train, test)\n",
        "print('Reading and Normalizing Data Completed')"
      ],
      "execution_count": 24,
      "outputs": [
        {
          "output_type": "stream",
          "text": [
            "Reading Data Started...\n",
            "Reading and Normalizing Data Completed\n"
          ],
          "name": "stdout"
        }
      ]
    },
    {
      "cell_type": "code",
      "metadata": {
        "id": "sYu0glRGTPu2",
        "colab_type": "code",
        "outputId": "fba9a4e2-900a-4800-e483-c7f9bdaf94f5",
        "colab": {
          "base_uri": "https://localhost:8080/",
          "height": 102
        }
      },
      "source": [
        "print('Creating Features')\n",
        "print('Feature Engineering Started...')\n",
        "\n",
        "train, test = add_category(train, test)\n",
        "\n",
        "# train, test = batching_10(train, test)\n",
        "\n",
        "train = run_feat_engineering(train, batch_size = GROUP_BATCH_SIZE)\n",
        "test = run_feat_engineering(test, batch_size = GROUP_BATCH_SIZE)\n",
        "\n",
        "tr_clean = pd.read_csv('./train_clean.csv', dtype={'time': np.float32, 'signal': np.float32, 'open_channels':np.int32})\n",
        "ts_clean = pd.read_csv('./test_clean.csv', dtype={'time': np.float32, 'signal': np.float32})\n",
        "pre_train = divide_and_add_features(tr_clean.signal, signal_size=500000)\n",
        "pre_test = divide_and_add_features(ts_clean.signal, signal_size=500000)\n",
        "pre_train.drop('signal', axis=1, inplace=True)\n",
        "pre_test.drop('signal', axis=1, inplace=True)\n",
        "pre_train.reset_index(inplace = True, drop = True)\n",
        "pre_test.reset_index(inplace = True, drop = True)\n",
        "train = pd.concat([train, pre_train], axis=1)\n",
        "test = pd.concat([test, pre_test], axis=1)\n",
        "\n",
        "del pre_train, pre_test, tr_clean, ts_clean\n",
        "gc.collect\n",
        "\n",
        "train, test, features = feature_selection(train, test)\n",
        "print('Feature Engineering Completed...')"
      ],
      "execution_count": 25,
      "outputs": [
        {
          "output_type": "stream",
          "text": [
            "Creating Features\n",
            "Feature Engineering Started...\n"
          ],
          "name": "stdout"
        },
        {
          "output_type": "stream",
          "text": [
            "100%|██████████| 10/10 [00:08<00:00,  1.15it/s]\n",
            "100%|██████████| 4/4 [00:05<00:00,  1.31s/it]\n"
          ],
          "name": "stderr"
        },
        {
          "output_type": "stream",
          "text": [
            "Feature Engineering Completed...\n"
          ],
          "name": "stdout"
        }
      ]
    },
    {
      "cell_type": "code",
      "metadata": {
        "id": "h448uvloaCSb",
        "colab_type": "code",
        "outputId": "c5025ebd-f282-44bc-f919-6eb9ba0dd34d",
        "colab": {
          "base_uri": "https://localhost:8080/",
          "height": 68
        }
      },
      "source": [
        "print('Reduce memory usage...')\n",
        "train = reduce_mem_usage(train)\n",
        "test = reduce_mem_usage(test)"
      ],
      "execution_count": 26,
      "outputs": [
        {
          "output_type": "stream",
          "text": [
            "Reduce memory usage...\n",
            "Mem. usage decreased to 1292.23 Mb (74.6% reduction)\n",
            "Mem. usage decreased to 509.26 Mb (74.9% reduction)\n"
          ],
          "name": "stdout"
        }
      ]
    },
    {
      "cell_type": "code",
      "metadata": {
        "id": "MGptgjoR9m_q",
        "colab_type": "code",
        "colab": {}
      },
      "source": [
        "def train_grouping(train, test):\n",
        "  train.loc[0:1000000, 'train_group'] = 0          # batch 0 and 1\n",
        "  train.loc[1000000:1500000, 'train_group'] = 1  # batch 2\n",
        "  train.loc[1500000:2000000, 'train_group'] = 2  # batch 3\n",
        "  train.loc[2000000:2500000, 'train_group'] = 3  # batch 4\n",
        "  train.loc[2500000:3000000, 'train_group'] = 4  # batch 5\n",
        "  train.loc[3000000:3500000, 'train_group'] = 1  # batch 6\n",
        "  train.loc[3500000:4000000, 'train_group'] = 2  # batch 7\n",
        "  train.loc[4000000:4500000, 'train_group'] = 4  # batch 8\n",
        "  train.loc[4500000:5000001, 'train_group'] = 3  # batch 9\n",
        "\n",
        "  test.loc[0:100000, 'test_group'] = 0\n",
        "  test.loc[100000:200000, 'test_group'] = 2\n",
        "  test.loc[200000:300000, 'test_group'] = 4\n",
        "  test.loc[300000:400000, 'test_group'] = 0\n",
        "  test.loc[400000:500000, 'test_group'] = 1\n",
        "  test.loc[500000:600000, 'test_group'] = 3\n",
        "  test.loc[600000:700000, 'test_group'] = 4\n",
        "  test.loc[700000:800000, 'test_group'] = 3\n",
        "  test.loc[800000:900000, 'test_group'] = 0\n",
        "  test.loc[900000:1000000, 'test_group'] = 2\n",
        "  test.loc[1000000:, 'test_group'] = 0\n",
        "\n",
        "  return train, test"
      ],
      "execution_count": 0,
      "outputs": []
    },
    {
      "cell_type": "code",
      "metadata": {
        "id": "PEzL3Kv5Tviy",
        "colab_type": "code",
        "outputId": "3eef8e58-acdd-451e-e21e-4c75cb85e8fa",
        "colab": {
          "base_uri": "https://localhost:8080/",
          "height": 1000
        }
      },
      "source": [
        "# print(f'Training lgb model with {SPLITS} folds of GroupKFold Started...')\n",
        "# run_cv_model_by_batch(train, test, SPLITS, 'group', features, sample_submission)\n",
        "# print('Training completed...')\n",
        "\n",
        "train. test = train_grouping(train, test)\n",
        "preds = []\n",
        "oofs = []\n",
        "print('Training started')\n",
        "for i in range(5):\n",
        "  print(f'Training train_group {i+1} started...')\n",
        "  group_train = train[train['train_group'] == i]\n",
        "  group_test = test[test['test_group'] == i]\n",
        "  pred, oof = run_cv_model_by_batch(group_train, group_test, SPLITS, 'group', features, sample_submission)\n",
        "  # preds += pred.tolist()\n",
        "  # oofs += oof.tolist()\n",
        "  preds.append(pred)\n",
        "  oofs.append(oof)\n",
        "  print(f'Training train_group {i+1} completed...')\n",
        "print('Training completed...')"
      ],
      "execution_count": 28,
      "outputs": [
        {
          "output_type": "stream",
          "text": [
            "Training started\n",
            "Training train_group 1 started...\n",
            "Our training dataset shape is (800000, 136)\n",
            "Our validation dataset shape is (200000, 136)\n",
            "Training until validation scores don't improve for 50 rounds.\n",
            "[100]\ttrain's rmse: 0.0192887\teval's rmse: 0.0209937\n",
            "[200]\ttrain's rmse: 0.0128999\teval's rmse: 0.0167291\n",
            "[300]\ttrain's rmse: 0.0108953\teval's rmse: 0.0166067\n",
            "[400]\ttrain's rmse: 0.00950961\teval's rmse: 0.0166084\n",
            "Early stopping, best iteration is:\n",
            "[370]\ttrain's rmse: 0.00987701\teval's rmse: 0.0165842\n",
            "Training fold 1 completed. macro f1 score : 0.99724\n",
            "Our training dataset shape is (800000, 136)\n",
            "Our validation dataset shape is (200000, 136)\n",
            "Training until validation scores don't improve for 50 rounds.\n",
            "[100]\ttrain's rmse: 0.0193688\teval's rmse: 0.0205972\n",
            "[200]\ttrain's rmse: 0.0129885\teval's rmse: 0.0163578\n",
            "Early stopping, best iteration is:\n",
            "[215]\ttrain's rmse: 0.0126584\teval's rmse: 0.0163472\n",
            "Training fold 2 completed. macro f1 score : 0.99742\n",
            "Our training dataset shape is (800000, 136)\n",
            "Our validation dataset shape is (200000, 136)\n",
            "Training until validation scores don't improve for 50 rounds.\n",
            "[100]\ttrain's rmse: 0.0193219\teval's rmse: 0.0204902\n",
            "[200]\ttrain's rmse: 0.0128268\teval's rmse: 0.0162859\n",
            "Early stopping, best iteration is:\n",
            "[212]\ttrain's rmse: 0.0125427\teval's rmse: 0.0162679\n",
            "Training fold 3 completed. macro f1 score : 0.99761\n",
            "Our training dataset shape is (800000, 136)\n",
            "Our validation dataset shape is (200000, 136)\n",
            "Training until validation scores don't improve for 50 rounds.\n",
            "[100]\ttrain's rmse: 0.0191522\teval's rmse: 0.0213797\n",
            "[200]\ttrain's rmse: 0.0129207\teval's rmse: 0.0173897\n",
            "[300]\ttrain's rmse: 0.0108433\teval's rmse: 0.0173269\n",
            "Early stopping, best iteration is:\n",
            "[291]\ttrain's rmse: 0.0110011\teval's rmse: 0.0173214\n",
            "Training fold 4 completed. macro f1 score : 0.99731\n",
            "Our training dataset shape is (800000, 136)\n",
            "Our validation dataset shape is (200000, 136)\n",
            "Training until validation scores don't improve for 50 rounds.\n",
            "[100]\ttrain's rmse: 0.0192838\teval's rmse: 0.020561\n",
            "[200]\ttrain's rmse: 0.0129512\teval's rmse: 0.0165148\n",
            "Early stopping, best iteration is:\n",
            "[190]\ttrain's rmse: 0.0132139\teval's rmse: 0.0164889\n",
            "Training fold 5 completed. macro f1 score : 0.99746\n",
            "Training train_group 1 completed...\n",
            "Training train_group 2 started...\n",
            "Our training dataset shape is (800000, 136)\n",
            "Our validation dataset shape is (200000, 136)\n",
            "Training until validation scores don't improve for 50 rounds.\n",
            "[100]\ttrain's rmse: 0.0478492\teval's rmse: 0.0509913\n",
            "[200]\ttrain's rmse: 0.0336977\teval's rmse: 0.0419882\n",
            "Early stopping, best iteration is:\n",
            "[238]\ttrain's rmse: 0.0313916\teval's rmse: 0.041927\n",
            "Training fold 1 completed. macro f1 score : 0.99693\n",
            "Our training dataset shape is (800000, 136)\n",
            "Our validation dataset shape is (200000, 136)\n",
            "Training until validation scores don't improve for 50 rounds.\n",
            "[100]\ttrain's rmse: 0.0475439\teval's rmse: 0.0511873\n",
            "[200]\ttrain's rmse: 0.0333367\teval's rmse: 0.0421945\n",
            "[300]\ttrain's rmse: 0.0275802\teval's rmse: 0.042086\n",
            "Early stopping, best iteration is:\n",
            "[330]\ttrain's rmse: 0.0262064\teval's rmse: 0.0420777\n",
            "Training fold 2 completed. macro f1 score : 0.99704\n",
            "Our training dataset shape is (800000, 136)\n",
            "Our validation dataset shape is (200000, 136)\n",
            "Training until validation scores don't improve for 50 rounds.\n",
            "[100]\ttrain's rmse: 0.0476989\teval's rmse: 0.0503834\n",
            "[200]\ttrain's rmse: 0.0337578\teval's rmse: 0.0410669\n",
            "[300]\ttrain's rmse: 0.0279042\teval's rmse: 0.0409973\n",
            "Early stopping, best iteration is:\n",
            "[265]\ttrain's rmse: 0.0297464\teval's rmse: 0.0409707\n",
            "Training fold 3 completed. macro f1 score : 0.99709\n",
            "Our training dataset shape is (800000, 136)\n",
            "Our validation dataset shape is (200000, 136)\n",
            "Training until validation scores don't improve for 50 rounds.\n",
            "[100]\ttrain's rmse: 0.0478034\teval's rmse: 0.0499816\n",
            "[200]\ttrain's rmse: 0.0336998\teval's rmse: 0.0407975\n",
            "Early stopping, best iteration is:\n",
            "[211]\ttrain's rmse: 0.0329922\teval's rmse: 0.0407813\n",
            "Training fold 4 completed. macro f1 score : 0.99714\n",
            "Our training dataset shape is (800000, 136)\n",
            "Our validation dataset shape is (200000, 136)\n",
            "Training until validation scores don't improve for 50 rounds.\n",
            "[100]\ttrain's rmse: 0.0473781\teval's rmse: 0.0514977\n",
            "[200]\ttrain's rmse: 0.0333601\teval's rmse: 0.0425987\n",
            "Early stopping, best iteration is:\n",
            "[215]\ttrain's rmse: 0.0323849\teval's rmse: 0.0425677\n",
            "Training fold 5 completed. macro f1 score : 0.99689\n",
            "Training train_group 2 completed...\n",
            "Training train_group 3 started...\n",
            "Our training dataset shape is (800000, 136)\n",
            "Our validation dataset shape is (200000, 136)\n",
            "Training until validation scores don't improve for 50 rounds.\n",
            "[100]\ttrain's rmse: 0.131202\teval's rmse: 0.142573\n",
            "[200]\ttrain's rmse: 0.110753\teval's rmse: 0.130824\n",
            "[300]\ttrain's rmse: 0.104895\teval's rmse: 0.129887\n",
            "[400]\ttrain's rmse: 0.100602\teval's rmse: 0.129239\n",
            "[500]\ttrain's rmse: 0.096842\teval's rmse: 0.128859\n",
            "[600]\ttrain's rmse: 0.093536\teval's rmse: 0.12863\n",
            "[700]\ttrain's rmse: 0.090617\teval's rmse: 0.128443\n",
            "[800]\ttrain's rmse: 0.0878696\teval's rmse: 0.128333\n",
            "[900]\ttrain's rmse: 0.0853669\teval's rmse: 0.128228\n",
            "[1000]\ttrain's rmse: 0.083001\teval's rmse: 0.128152\n",
            "[1100]\ttrain's rmse: 0.0806883\teval's rmse: 0.128099\n",
            "[1200]\ttrain's rmse: 0.0784455\teval's rmse: 0.12802\n",
            "[1300]\ttrain's rmse: 0.076497\teval's rmse: 0.127976\n",
            "[1400]\ttrain's rmse: 0.0744784\teval's rmse: 0.127968\n",
            "Early stopping, best iteration is:\n",
            "[1378]\ttrain's rmse: 0.0749342\teval's rmse: 0.127952\n",
            "Training fold 1 completed. macro f1 score : 0.97497\n",
            "Our training dataset shape is (800000, 136)\n",
            "Our validation dataset shape is (200000, 136)\n",
            "Training until validation scores don't improve for 50 rounds.\n",
            "[100]\ttrain's rmse: 0.131479\teval's rmse: 0.14159\n",
            "[200]\ttrain's rmse: 0.111\teval's rmse: 0.129818\n",
            "[300]\ttrain's rmse: 0.105044\teval's rmse: 0.129038\n",
            "[400]\ttrain's rmse: 0.100746\teval's rmse: 0.128338\n",
            "[500]\ttrain's rmse: 0.0970422\teval's rmse: 0.127985\n",
            "[600]\ttrain's rmse: 0.0937013\teval's rmse: 0.127745\n",
            "[700]\ttrain's rmse: 0.0907407\teval's rmse: 0.127528\n",
            "[800]\ttrain's rmse: 0.0879863\teval's rmse: 0.1274\n",
            "[900]\ttrain's rmse: 0.0853551\teval's rmse: 0.127331\n",
            "[1000]\ttrain's rmse: 0.082973\teval's rmse: 0.127258\n",
            "[1100]\ttrain's rmse: 0.080635\teval's rmse: 0.127228\n",
            "[1200]\ttrain's rmse: 0.0784564\teval's rmse: 0.127178\n",
            "[1300]\ttrain's rmse: 0.076351\teval's rmse: 0.127179\n",
            "[1400]\ttrain's rmse: 0.0744488\teval's rmse: 0.127137\n",
            "Early stopping, best iteration is:\n",
            "[1416]\ttrain's rmse: 0.0741951\teval's rmse: 0.127131\n",
            "Training fold 2 completed. macro f1 score : 0.97590\n",
            "Our training dataset shape is (800000, 136)\n",
            "Our validation dataset shape is (200000, 136)\n",
            "Training until validation scores don't improve for 50 rounds.\n",
            "[100]\ttrain's rmse: 0.131277\teval's rmse: 0.142607\n",
            "[200]\ttrain's rmse: 0.11078\teval's rmse: 0.130843\n",
            "[300]\ttrain's rmse: 0.104865\teval's rmse: 0.129914\n",
            "[400]\ttrain's rmse: 0.100566\teval's rmse: 0.129304\n",
            "[500]\ttrain's rmse: 0.096968\teval's rmse: 0.128836\n",
            "[600]\ttrain's rmse: 0.0935699\teval's rmse: 0.128575\n",
            "[700]\ttrain's rmse: 0.0905944\teval's rmse: 0.128427\n",
            "[800]\ttrain's rmse: 0.0878365\teval's rmse: 0.128298\n",
            "[900]\ttrain's rmse: 0.085455\teval's rmse: 0.128195\n",
            "[1000]\ttrain's rmse: 0.0829303\teval's rmse: 0.128152\n",
            "[1100]\ttrain's rmse: 0.0806853\teval's rmse: 0.128116\n",
            "[1200]\ttrain's rmse: 0.0785611\teval's rmse: 0.128085\n",
            "[1300]\ttrain's rmse: 0.07662\teval's rmse: 0.128033\n",
            "[1400]\ttrain's rmse: 0.0746674\teval's rmse: 0.128012\n",
            "Early stopping, best iteration is:\n",
            "[1405]\ttrain's rmse: 0.0745812\teval's rmse: 0.128009\n",
            "Training fold 3 completed. macro f1 score : 0.97526\n",
            "Our training dataset shape is (800000, 136)\n",
            "Our validation dataset shape is (200000, 136)\n",
            "Training until validation scores don't improve for 50 rounds.\n",
            "[100]\ttrain's rmse: 0.131204\teval's rmse: 0.142767\n",
            "[200]\ttrain's rmse: 0.11064\teval's rmse: 0.131013\n",
            "[300]\ttrain's rmse: 0.104766\teval's rmse: 0.130183\n",
            "[400]\ttrain's rmse: 0.100431\teval's rmse: 0.129515\n",
            "[500]\ttrain's rmse: 0.096803\teval's rmse: 0.12912\n",
            "[600]\ttrain's rmse: 0.0937256\teval's rmse: 0.128877\n",
            "[700]\ttrain's rmse: 0.0906038\teval's rmse: 0.128714\n",
            "[800]\ttrain's rmse: 0.0878661\teval's rmse: 0.128617\n",
            "[900]\ttrain's rmse: 0.0853449\teval's rmse: 0.128527\n",
            "[1000]\ttrain's rmse: 0.0828206\teval's rmse: 0.128478\n",
            "[1100]\ttrain's rmse: 0.0805293\teval's rmse: 0.128424\n",
            "[1200]\ttrain's rmse: 0.078394\teval's rmse: 0.128397\n",
            "Early stopping, best iteration is:\n",
            "[1190]\ttrain's rmse: 0.0786275\teval's rmse: 0.128391\n",
            "Training fold 4 completed. macro f1 score : 0.97515\n",
            "Our training dataset shape is (800000, 136)\n",
            "Our validation dataset shape is (200000, 136)\n",
            "Training until validation scores don't improve for 50 rounds.\n",
            "[100]\ttrain's rmse: 0.131402\teval's rmse: 0.142333\n",
            "[200]\ttrain's rmse: 0.11087\teval's rmse: 0.130375\n",
            "[300]\ttrain's rmse: 0.104992\teval's rmse: 0.129451\n",
            "[400]\ttrain's rmse: 0.100692\teval's rmse: 0.128853\n",
            "[500]\ttrain's rmse: 0.0970212\teval's rmse: 0.128507\n",
            "[600]\ttrain's rmse: 0.0936537\teval's rmse: 0.128257\n",
            "[700]\ttrain's rmse: 0.0907193\teval's rmse: 0.128065\n",
            "[800]\ttrain's rmse: 0.0879915\teval's rmse: 0.127925\n",
            "[900]\ttrain's rmse: 0.0853396\teval's rmse: 0.127833\n",
            "[1000]\ttrain's rmse: 0.0829085\teval's rmse: 0.127767\n",
            "[1100]\ttrain's rmse: 0.0806974\teval's rmse: 0.127683\n",
            "[1200]\ttrain's rmse: 0.0785009\teval's rmse: 0.127639\n",
            "[1300]\ttrain's rmse: 0.0764406\teval's rmse: 0.127608\n",
            "[1400]\ttrain's rmse: 0.074524\teval's rmse: 0.127577\n",
            "Early stopping, best iteration is:\n",
            "[1379]\ttrain's rmse: 0.0749531\teval's rmse: 0.127573\n",
            "Training fold 5 completed. macro f1 score : 0.97529\n",
            "Training train_group 3 completed...\n",
            "Training train_group 4 started...\n",
            "Our training dataset shape is (800000, 136)\n",
            "Our validation dataset shape is (200000, 136)\n",
            "Training until validation scores don't improve for 50 rounds.\n",
            "[100]\ttrain's rmse: 0.297741\teval's rmse: 0.301957\n",
            "[200]\ttrain's rmse: 0.277109\teval's rmse: 0.286242\n",
            "[300]\ttrain's rmse: 0.273425\teval's rmse: 0.285913\n",
            "[400]\ttrain's rmse: 0.270494\teval's rmse: 0.285693\n",
            "[500]\ttrain's rmse: 0.267766\teval's rmse: 0.28558\n",
            "[600]\ttrain's rmse: 0.265121\teval's rmse: 0.285476\n",
            "[700]\ttrain's rmse: 0.2625\teval's rmse: 0.2854\n",
            "[800]\ttrain's rmse: 0.260041\teval's rmse: 0.285338\n",
            "[900]\ttrain's rmse: 0.257703\teval's rmse: 0.2853\n",
            "[1000]\ttrain's rmse: 0.25534\teval's rmse: 0.285251\n",
            "[1100]\ttrain's rmse: 0.253059\teval's rmse: 0.285212\n",
            "Early stopping, best iteration is:\n",
            "[1123]\ttrain's rmse: 0.252576\teval's rmse: 0.285206\n",
            "Training fold 1 completed. macro f1 score : 0.87393\n",
            "Our training dataset shape is (800000, 136)\n",
            "Our validation dataset shape is (200000, 136)\n",
            "Training until validation scores don't improve for 50 rounds.\n",
            "[100]\ttrain's rmse: 0.297494\teval's rmse: 0.30286\n",
            "[200]\ttrain's rmse: 0.276781\teval's rmse: 0.287206\n",
            "[300]\ttrain's rmse: 0.273075\teval's rmse: 0.286889\n",
            "[400]\ttrain's rmse: 0.270219\teval's rmse: 0.286659\n",
            "[500]\ttrain's rmse: 0.267531\teval's rmse: 0.286543\n",
            "[600]\ttrain's rmse: 0.264976\teval's rmse: 0.286451\n",
            "[700]\ttrain's rmse: 0.262437\teval's rmse: 0.286393\n",
            "[800]\ttrain's rmse: 0.259987\teval's rmse: 0.28633\n",
            "[900]\ttrain's rmse: 0.257665\teval's rmse: 0.286276\n",
            "[1000]\ttrain's rmse: 0.255277\teval's rmse: 0.286218\n",
            "[1100]\ttrain's rmse: 0.252943\teval's rmse: 0.286194\n",
            "[1200]\ttrain's rmse: 0.25078\teval's rmse: 0.28617\n",
            "[1300]\ttrain's rmse: 0.248612\teval's rmse: 0.28613\n",
            "[1400]\ttrain's rmse: 0.246366\teval's rmse: 0.286096\n",
            "Early stopping, best iteration is:\n",
            "[1387]\ttrain's rmse: 0.246643\teval's rmse: 0.286092\n",
            "Training fold 2 completed. macro f1 score : 0.87199\n",
            "Our training dataset shape is (800000, 136)\n",
            "Our validation dataset shape is (200000, 136)\n",
            "Training until validation scores don't improve for 50 rounds.\n",
            "[100]\ttrain's rmse: 0.297339\teval's rmse: 0.303494\n",
            "[200]\ttrain's rmse: 0.276638\teval's rmse: 0.288062\n",
            "[300]\ttrain's rmse: 0.272982\teval's rmse: 0.287781\n",
            "[400]\ttrain's rmse: 0.270051\teval's rmse: 0.28757\n",
            "[500]\ttrain's rmse: 0.267294\teval's rmse: 0.287431\n",
            "[600]\ttrain's rmse: 0.264598\teval's rmse: 0.287357\n",
            "[700]\ttrain's rmse: 0.262084\teval's rmse: 0.287297\n",
            "[800]\ttrain's rmse: 0.259587\teval's rmse: 0.287244\n",
            "[900]\ttrain's rmse: 0.257131\teval's rmse: 0.287202\n",
            "[1000]\ttrain's rmse: 0.254685\teval's rmse: 0.287159\n",
            "Early stopping, best iteration is:\n",
            "[1021]\ttrain's rmse: 0.254186\teval's rmse: 0.28713\n",
            "Training fold 3 completed. macro f1 score : 0.87657\n",
            "Our training dataset shape is (800000, 136)\n",
            "Our validation dataset shape is (200000, 136)\n",
            "Training until validation scores don't improve for 50 rounds.\n",
            "[100]\ttrain's rmse: 0.297805\teval's rmse: 0.301554\n",
            "[200]\ttrain's rmse: 0.277126\teval's rmse: 0.28605\n",
            "[300]\ttrain's rmse: 0.273448\teval's rmse: 0.285765\n",
            "[400]\ttrain's rmse: 0.270575\teval's rmse: 0.285551\n",
            "[500]\ttrain's rmse: 0.267828\teval's rmse: 0.285417\n",
            "[600]\ttrain's rmse: 0.265157\teval's rmse: 0.285296\n",
            "[700]\ttrain's rmse: 0.262615\teval's rmse: 0.285222\n",
            "[800]\ttrain's rmse: 0.260215\teval's rmse: 0.285166\n",
            "[900]\ttrain's rmse: 0.257815\teval's rmse: 0.285114\n",
            "[1000]\ttrain's rmse: 0.255424\teval's rmse: 0.285067\n",
            "[1100]\ttrain's rmse: 0.253129\teval's rmse: 0.285028\n",
            "[1200]\ttrain's rmse: 0.250837\teval's rmse: 0.285009\n",
            "Early stopping, best iteration is:\n",
            "[1200]\ttrain's rmse: 0.250837\teval's rmse: 0.285009\n",
            "Training fold 4 completed. macro f1 score : 0.78430\n",
            "Our training dataset shape is (800000, 136)\n",
            "Our validation dataset shape is (200000, 136)\n",
            "Training until validation scores don't improve for 50 rounds.\n",
            "[100]\ttrain's rmse: 0.297827\teval's rmse: 0.301857\n",
            "[200]\ttrain's rmse: 0.277071\teval's rmse: 0.285907\n",
            "[300]\ttrain's rmse: 0.273386\teval's rmse: 0.285584\n",
            "[400]\ttrain's rmse: 0.270486\teval's rmse: 0.285402\n",
            "[500]\ttrain's rmse: 0.267781\teval's rmse: 0.285282\n",
            "[600]\ttrain's rmse: 0.265167\teval's rmse: 0.2852\n",
            "[700]\ttrain's rmse: 0.26268\teval's rmse: 0.285127\n",
            "[800]\ttrain's rmse: 0.260173\teval's rmse: 0.285081\n",
            "[900]\ttrain's rmse: 0.257676\teval's rmse: 0.285039\n",
            "[1000]\ttrain's rmse: 0.25532\teval's rmse: 0.28501\n",
            "[1100]\ttrain's rmse: 0.253113\teval's rmse: 0.284976\n",
            "[1200]\ttrain's rmse: 0.250879\teval's rmse: 0.284961\n",
            "Early stopping, best iteration is:\n",
            "[1182]\ttrain's rmse: 0.251277\teval's rmse: 0.284956\n",
            "Training fold 5 completed. macro f1 score : 0.79234\n",
            "Training train_group 4 completed...\n",
            "Training train_group 5 started...\n",
            "Our training dataset shape is (800000, 136)\n",
            "Our validation dataset shape is (200000, 136)\n",
            "Training until validation scores don't improve for 50 rounds.\n",
            "[100]\ttrain's rmse: 0.140316\teval's rmse: 0.146029\n",
            "[200]\ttrain's rmse: 0.116415\teval's rmse: 0.128996\n",
            "[300]\ttrain's rmse: 0.111918\teval's rmse: 0.128782\n",
            "[400]\ttrain's rmse: 0.108445\teval's rmse: 0.128669\n",
            "Early stopping, best iteration is:\n",
            "[425]\ttrain's rmse: 0.107648\teval's rmse: 0.128652\n",
            "Training fold 1 completed. macro f1 score : 0.97419\n",
            "Our training dataset shape is (800000, 136)\n",
            "Our validation dataset shape is (200000, 136)\n",
            "Training until validation scores don't improve for 50 rounds.\n",
            "[100]\ttrain's rmse: 0.140451\teval's rmse: 0.145109\n",
            "[200]\ttrain's rmse: 0.116582\teval's rmse: 0.128044\n",
            "[300]\ttrain's rmse: 0.112159\teval's rmse: 0.127889\n",
            "[400]\ttrain's rmse: 0.108638\teval's rmse: 0.127814\n",
            "[500]\ttrain's rmse: 0.105536\teval's rmse: 0.127778\n",
            "[600]\ttrain's rmse: 0.102759\teval's rmse: 0.127749\n",
            "Early stopping, best iteration is:\n",
            "[579]\ttrain's rmse: 0.103309\teval's rmse: 0.12774\n",
            "Training fold 2 completed. macro f1 score : 0.97325\n",
            "Our training dataset shape is (800000, 136)\n",
            "Our validation dataset shape is (200000, 136)\n",
            "Training until validation scores don't improve for 50 rounds.\n",
            "[100]\ttrain's rmse: 0.140084\teval's rmse: 0.146734\n",
            "[200]\ttrain's rmse: 0.116063\teval's rmse: 0.129856\n",
            "[300]\ttrain's rmse: 0.111611\teval's rmse: 0.129718\n",
            "[400]\ttrain's rmse: 0.108086\teval's rmse: 0.12968\n",
            "Early stopping, best iteration is:\n",
            "[400]\ttrain's rmse: 0.108086\teval's rmse: 0.12968\n",
            "Training fold 3 completed. macro f1 score : 0.96923\n",
            "Our training dataset shape is (800000, 136)\n",
            "Our validation dataset shape is (200000, 136)\n",
            "Training until validation scores don't improve for 50 rounds.\n",
            "[100]\ttrain's rmse: 0.140247\teval's rmse: 0.146362\n",
            "[200]\ttrain's rmse: 0.116256\teval's rmse: 0.12971\n",
            "[300]\ttrain's rmse: 0.111769\teval's rmse: 0.129503\n",
            "[400]\ttrain's rmse: 0.108312\teval's rmse: 0.129422\n",
            "[500]\ttrain's rmse: 0.105329\teval's rmse: 0.129392\n",
            "[600]\ttrain's rmse: 0.102559\teval's rmse: 0.129367\n",
            "[700]\ttrain's rmse: 0.10002\teval's rmse: 0.129363\n",
            "Early stopping, best iteration is:\n",
            "[667]\ttrain's rmse: 0.100837\teval's rmse: 0.129352\n",
            "Training fold 4 completed. macro f1 score : 0.97161\n",
            "Our training dataset shape is (800000, 136)\n",
            "Our validation dataset shape is (200000, 136)\n",
            "Training until validation scores don't improve for 50 rounds.\n",
            "[100]\ttrain's rmse: 0.140119\teval's rmse: 0.146644\n",
            "[200]\ttrain's rmse: 0.116095\teval's rmse: 0.129861\n",
            "[300]\ttrain's rmse: 0.111627\teval's rmse: 0.129627\n",
            "[400]\ttrain's rmse: 0.108189\teval's rmse: 0.129537\n",
            "[500]\ttrain's rmse: 0.105305\teval's rmse: 0.129493\n",
            "[600]\ttrain's rmse: 0.102543\teval's rmse: 0.129495\n",
            "Early stopping, best iteration is:\n",
            "[583]\ttrain's rmse: 0.103007\teval's rmse: 0.129478\n",
            "Training fold 5 completed. macro f1 score : 0.97199\n",
            "Training train_group 5 completed...\n",
            "Training completed...\n"
          ],
          "name": "stdout"
        }
      ]
    },
    {
      "cell_type": "code",
      "metadata": {
        "id": "wCog4u03y50S",
        "colab_type": "code",
        "colab": {}
      },
      "source": [
        "def sort_oof_data(arr):\n",
        "  arr_ = []\n",
        "  arr_ += arr[0][0:].tolist()\n",
        "  arr_ += arr[1][0:500000].tolist()\n",
        "  arr_ += arr[2][0:500000].tolist()\n",
        "  arr_ += arr[3][0:500000].tolist()\n",
        "  arr_ += arr[4][0:500000].tolist()\n",
        "  arr_ += arr[1][500000:].tolist()\n",
        "  arr_ += arr[2][500000:].tolist()\n",
        "  arr_ += arr[4][500000:].tolist()\n",
        "  arr_ += arr[3][500000:].tolist()\n",
        "  return arr_\n",
        "\n",
        "full_oof = sort_oof_data(oofs)"
      ],
      "execution_count": 0,
      "outputs": []
    },
    {
      "cell_type": "code",
      "metadata": {
        "id": "eg8cGTBpy76J",
        "colab_type": "code",
        "colab": {}
      },
      "source": [
        "def sort_pred_data(arr):\n",
        "  arr_ = []\n",
        "  arr_ += arr[0][0:100000].tolist()\n",
        "  arr_ += arr[2][0:100000].tolist()\n",
        "  arr_ += arr[4][0:100000].tolist()\n",
        "  arr_ += arr[0][100000:200000].tolist()\n",
        "  arr_ += arr[1][0:100000].tolist()\n",
        "  arr_ += arr[3][0:100000].tolist()\n",
        "  arr_ += arr[4][100000:].tolist()\n",
        "  arr_ += arr[3][100000:].tolist()\n",
        "  arr_ += arr[0][200000:300000].tolist()\n",
        "  arr_ += arr[2][100000:].tolist()\n",
        "  arr_ += arr[0][300000:].tolist()\n",
        "  return arr_\n",
        "\n",
        "full_pred = sort_pred_data(preds)"
      ],
      "execution_count": 0,
      "outputs": []
    },
    {
      "cell_type": "code",
      "metadata": {
        "id": "Q8LawFfpy9uw",
        "colab_type": "code",
        "colab": {
          "base_uri": "https://localhost:8080/",
          "height": 34
        },
        "outputId": "fcc080a2-8a15-449b-b1eb-f51909302644"
      },
      "source": [
        "f1_score_ = f1_score(train.open_channels,  np.round(np.clip(full_oof, 0, 10)).astype(int), average = 'macro')\n",
        "print(f'Training completed. oof macro f1 score : {f1_score_:1.5f}')\n",
        "sample_submission['open_channels'] = np.round(np.clip(full_pred, 0, 10)).astype(int)\n",
        "sample_submission.to_csv('lgb_submission.csv', index=False, float_format='%.4f')"
      ],
      "execution_count": 35,
      "outputs": [
        {
          "output_type": "stream",
          "text": [
            "Training completed. oof macro f1 score : 0.93929\n"
          ],
          "name": "stdout"
        }
      ]
    },
    {
      "cell_type": "code",
      "metadata": {
        "id": "j8N2QuObT6Rf",
        "colab_type": "code",
        "outputId": "ec825711-5d47-4867-ae35-27162000f7b3",
        "colab": {
          "base_uri": "https://localhost:8080/",
          "height": 68
        }
      },
      "source": [
        "!kaggle competitions submit -f './lgb_submission.csv' -m 'lgb' liverpool-ion-switching"
      ],
      "execution_count": 32,
      "outputs": [
        {
          "output_type": "stream",
          "text": [
            "Warning: Looks like you're using an outdated API Version, please consider updating (server 1.5.6 / client 1.5.4)\n",
            "100% 21.0M/21.0M [00:06<00:00, 3.22MB/s]\n",
            "Successfully submitted to University of Liverpool - Ion Switching"
          ],
          "name": "stdout"
        }
      ]
    },
    {
      "cell_type": "markdown",
      "metadata": {
        "id": "fwmBMaXEmdGW",
        "colab_type": "text"
      },
      "source": [
        "training with clean_kalman\n",
        "> Training completed. oof macro f1 score : 0.93940  \n",
        "> LB : 0.940  \n",
        "\n",
        "clean_kalman  \n",
        "add category  \n",
        "add 20shifted\n",
        "> Training completed. oof macro f1 score : 0.93941  \n",
        "> LB : 0.940\n",
        "\n",
        "clean_kalman  \n",
        "add category  \n",
        "add 20shifted  \n",
        "add target encoding(group)\n",
        "> Training completed. oof macro f1 score : 0.93880  \n",
        "> LB : 0.653\n",
        "\n",
        "clean_kalman + add category + add 20shifted\n",
        "> Training completed. oof macro f1 score : 0.93953  \n",
        "> LB : 0.942  \n",
        "\n",
        "clean_kalman + add category + add 20shifted + target encording(category)  \n",
        ">　Training completed. oof macro f1 score : 0.93842  \n",
        ">　LB : 0.941"
      ]
    },
    {
      "cell_type": "code",
      "metadata": {
        "id": "caPUEw17moRo",
        "colab_type": "code",
        "colab": {}
      },
      "source": [
        ""
      ],
      "execution_count": 0,
      "outputs": []
    }
  ]
}